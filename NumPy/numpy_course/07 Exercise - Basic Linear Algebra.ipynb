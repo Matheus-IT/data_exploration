{
 "cells": [
  {
   "cell_type": "markdown",
   "metadata": {},
   "source": [
    "# 07 Exercise - Basic Linear Algebra"
   ]
  },
  {
   "cell_type": "markdown",
   "metadata": {},
   "source": [
    "This exercise set is all about doing standard linear algebra exercises using NumPy. "
   ]
  },
  {
   "cell_type": "code",
   "execution_count": 1,
   "metadata": {},
   "outputs": [],
   "source": [
    "#DON'T MODIFY THIS CELL, ONLY RUN IT.\n",
    "\n",
    "# Importing NumPy as np.\n",
    "import numpy as np"
   ]
  },
  {
   "cell_type": "markdown",
   "metadata": {},
   "source": [
    "## Exercise 1: Import the Linalg Submodule"
   ]
  },
  {
   "cell_type": "code",
   "execution_count": 2,
   "metadata": {},
   "outputs": [],
   "source": [
    "# Importing the linalg submodule from NumPy\n",
    "from numpy import linalg"
   ]
  },
  {
   "cell_type": "markdown",
   "metadata": {},
   "source": [
    "## Exercise 2: Simple Vector Operations"
   ]
  },
  {
   "cell_type": "markdown",
   "metadata": {},
   "source": [
    "### Exercise 2a: \n",
    "Are any of the vectors $[1, 2, 3]$  and $[2, 3, 4]$  parallel? What about orthogonal?"
   ]
  },
  {
   "cell_type": "code",
   "execution_count": 10,
   "metadata": {},
   "outputs": [
    {
     "name": "stdout",
     "output_type": "stream",
     "text": [
      "parallel? False\n",
      "orthogonal? False\n"
     ]
    }
   ],
   "source": [
    "# Make the vectors\n",
    "v1 = np.array([1, 2, 3])\n",
    "v2 = np.array([2, 3, 4])\n",
    "# Checking if parallel\n",
    "print('parallel?', np.dot(v1, v2) == (v1.size * v2.size))\n",
    "# Checking if orthogonal\n",
    "print('orthogonal?', np.dot(v1, v2) == 0)\n"
   ]
  },
  {
   "cell_type": "markdown",
   "metadata": {},
   "source": [
    "### Exercise 2b: \n",
    "Can you find the angle between the vector $[1, 2, 3]$ and $[2, 3, 4]$?"
   ]
  },
  {
   "cell_type": "code",
   "execution_count": 12,
   "metadata": {},
   "outputs": [
    {
     "data": {
      "text/plain": [
       "0.12186756768575456"
      ]
     },
     "execution_count": 12,
     "metadata": {},
     "output_type": "execute_result"
    }
   ],
   "source": [
    "# Defining the angle function\n",
    "np.arccos(v1.dot(v2) / (linalg.norm(v1) * linalg.norm(v2)))\n",
    "# Finding the angle\n"
   ]
  },
  {
   "cell_type": "markdown",
   "metadata": {},
   "source": [
    "## Exercise 3: Simple Matrix Operations"
   ]
  },
  {
   "cell_type": "markdown",
   "metadata": {},
   "source": [
    "Define the matrices \n",
    "$$ A= \n",
    "\\begin{bmatrix}\n",
    "1&1&2\\\\\n",
    "1&1&1\\\\\n",
    "1&1&1\n",
    "\\end{bmatrix}\\quad \\text{and}\\quad B= \n",
    "\\begin{bmatrix}\n",
    "1&0&0\\\\\n",
    "0&1&-2\\\\\n",
    "0&0&1\n",
    "\\end{bmatrix}.\n",
    "$$"
   ]
  },
  {
   "cell_type": "markdown",
   "metadata": {},
   "source": [
    "### Exercise 3a: \n",
    "Find the matrix product $AB$."
   ]
  },
  {
   "cell_type": "code",
   "execution_count": 15,
   "metadata": {},
   "outputs": [
    {
     "data": {
      "text/plain": [
       "array([[ 1,  1,  0],\n",
       "       [ 1,  1, -1],\n",
       "       [ 1,  1, -1]])"
      ]
     },
     "execution_count": 15,
     "metadata": {},
     "output_type": "execute_result"
    }
   ],
   "source": [
    "# Defining the matrices\n",
    "a = np.array([[1,1,2],[1,1,1],[1,1,1]])\n",
    "b = np.array([[1,0,0],[0,1,-2],[0,0,1]])\n",
    "# Finding the matrix product AB\n",
    "a @ b"
   ]
  },
  {
   "cell_type": "markdown",
   "metadata": {},
   "source": [
    "### Exercise 3b: \n",
    "Find the matrix product $B^{-1}A^5$."
   ]
  },
  {
   "cell_type": "code",
   "execution_count": 17,
   "metadata": {},
   "outputs": [
    {
     "data": {
      "text/plain": [
       "array([[ 1.,  1., 32.],\n",
       "       [ 3.,  3.,  3.],\n",
       "       [ 1.,  1.,  1.]])"
      ]
     },
     "execution_count": 17,
     "metadata": {},
     "output_type": "execute_result"
    }
   ],
   "source": [
    "# Find the matrix power\n",
    "linalg.inv(b) @ a**5"
   ]
  },
  {
   "cell_type": "markdown",
   "metadata": {},
   "source": [
    "### Exercise 3c: \n",
    "Find the transpose of $A$, namely $A^T$. Compute the product $A A^T$."
   ]
  },
  {
   "cell_type": "code",
   "execution_count": 19,
   "metadata": {},
   "outputs": [
    {
     "data": {
      "text/plain": [
       "array([[6, 4, 4],\n",
       "       [4, 3, 3],\n",
       "       [4, 3, 3]])"
      ]
     },
     "execution_count": 19,
     "metadata": {},
     "output_type": "execute_result"
    }
   ],
   "source": [
    "# Finding the transpose of $A$\n",
    "a.T\n",
    "# Finding the product of $AA^T$\n",
    "a @ a.T"
   ]
  },
  {
   "cell_type": "markdown",
   "metadata": {},
   "source": [
    "## Exercise 4: Balancing Chemical Equations"
   ]
  },
  {
   "cell_type": "markdown",
   "metadata": {},
   "source": [
    "In this exercise we are going to use NumPy to balance a set of chemical equations. The question is how to balance the equation\n",
    "$$x*C_4H_{10}+y*O_2 = v*H_2O + w*CO_2.$$\n",
    "Written as vectors this becomes\n",
    "$$x*[4,10,0]+y*[0,0,2]=z*[0,2,1] + w*[1,0,2],$$\n",
    "or equivalently,\n",
    "$$\n",
    "\\begin{bmatrix}\n",
    "4&0&0\\\\\n",
    "10&0&-2\\\\\n",
    "0&2&-1\n",
    "\\end{bmatrix}\n",
    "\\begin{bmatrix}\n",
    "x\\\\ y\\\\ z\n",
    "\\end{bmatrix} \n",
    "=w*\\begin{bmatrix}\n",
    "1\\\\ 0\\\\ 2\n",
    "\\end{bmatrix}.\n",
    "$$"
   ]
  },
  {
   "cell_type": "markdown",
   "metadata": {},
   "source": [
    "### Exercise 4a: \n",
    "Find out if the matrix is invertible."
   ]
  },
  {
   "cell_type": "code",
   "execution_count": 29,
   "metadata": {
    "scrolled": true
   },
   "outputs": [
    {
     "data": {
      "text/plain": [
       "16.000000000000007"
      ]
     },
     "execution_count": 29,
     "metadata": {},
     "output_type": "execute_result"
    }
   ],
   "source": [
    "# Checking if the matrix is invertible\n",
    "m = np.array([[4,0,0],[10,0,-2],[0,2,-1]])\n",
    "linalg.det(m)"
   ]
  },
  {
   "cell_type": "markdown",
   "metadata": {},
   "source": [
    "### Exercise 4b: \n",
    "Solve the linear system with $w=1$."
   ]
  },
  {
   "cell_type": "code",
   "execution_count": 32,
   "metadata": {},
   "outputs": [],
   "source": [
    "# Finding a solution\n",
    "result = linalg.solve(m, np.array([1, 0, 2]))"
   ]
  },
  {
   "cell_type": "markdown",
   "metadata": {},
   "source": [
    "### Exercise 4c: \n",
    "Having 0.25 of a carbon atom doesn’t really make sense. Multiply the vector with the whole numbers from 1 to 10 to see when the solution consists of only whole numbers."
   ]
  },
  {
   "cell_type": "code",
   "execution_count": 33,
   "metadata": {},
   "outputs": [
    {
     "name": "stdout",
     "output_type": "stream",
     "text": [
      "[0.25  1.625 1.25 ]\n",
      "[0.5  3.25 2.5 ]\n",
      "[0.75  4.875 3.75 ]\n",
      "[1.  6.5 5. ]\n",
      "[1.25  8.125 6.25 ]\n",
      "[1.5  9.75 7.5 ]\n",
      "[ 1.75  11.375  8.75 ]\n",
      "[ 2. 13. 10.]\n",
      "[ 2.25  14.625 11.25 ]\n",
      "[ 2.5  16.25 12.5 ]\n"
     ]
    }
   ],
   "source": [
    "# Print out the multiples from 1 to 10\n",
    "for i in range(1, 11):\n",
    "    print(i*result)"
   ]
  },
  {
   "cell_type": "markdown",
   "metadata": {},
   "source": [
    "### Exercise 4d: \n",
    "Write up the balanced equation, in other words, what is $x,$ $y,$ $z,$ and $w$?"
   ]
  },
  {
   "cell_type": "markdown",
   "metadata": {},
   "source": [
    "## Moral of the Story"
   ]
  },
  {
   "cell_type": "markdown",
   "metadata": {},
   "source": [
    "NumPy's linear algebra module makes working with linear algebra easy. In many universities around the world, NumPy is used in courses for linear algebra. In Exercise 4 above, you saw that one can use NumPy to balance chemical equations. Many other applications of linear algebra exist and you can check out the article: https://medium.com/@jeremyjkun/here-s-just-a-fraction-of-what-you-can-do-with-linear-algebra-633383d4153f for more examples!"
   ]
  }
 ],
 "metadata": {
  "kernelspec": {
   "display_name": "Python 3",
   "language": "python",
   "name": "python3"
  },
  "language_info": {
   "codemirror_mode": {
    "name": "ipython",
    "version": 3
   },
   "file_extension": ".py",
   "mimetype": "text/x-python",
   "name": "python",
   "nbconvert_exporter": "python",
   "pygments_lexer": "ipython3",
   "version": "3.9.2"
  }
 },
 "nbformat": 4,
 "nbformat_minor": 4
}
