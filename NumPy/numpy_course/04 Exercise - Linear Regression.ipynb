{
 "cells": [
  {
   "cell_type": "markdown",
   "metadata": {},
   "source": [
    "# 04 Exercise - Linear Regression"
   ]
  },
  {
   "cell_type": "markdown",
   "metadata": {},
   "source": [
    "Linear regression is a machine learning method for prediction. In essence, if we are given training samples $(x_0, y_0), \\dots, (x_{n-1}, y_{n-1})$, then linear regression produces a line $L$ that best approximates the points. The line $L$ can then be used to predict the values of new data: If $x_{n}$ is a new data point, then the predicted value for $y_{n}$ is the hight of $L$ over the point $x_{n}$.\n",
    "\n",
    "As an example, let the $x$-values represent height of individuals (in cm), and let the $y$-values represent the weight of the individuals (in kg). Then a pair $(180, 80)$ represents a person that is 180cm high, and weights 80kg. The task of linear regression is, given many observed individuals $(x_0, y_0), \\dots, (x_{n-1}, y_{n-1})$, to predict the weight $y_{n}$ of a new individual by only knowing the persons hight $x_{n}$.\n",
    "\n",
    "In this exercise sheet, we will implement linear regression on random data to get some practice with random number generators. We will give you everything you need to know, so don't worry if you don't already know linear regression."
   ]
  },
  {
   "cell_type": "markdown",
   "metadata": {},
   "source": [
    "## Exercise 1:  Importing NumPy"
   ]
  },
  {
   "cell_type": "markdown",
   "metadata": {},
   "source": [
    "We start by importing the necessary packages."
   ]
  },
  {
   "cell_type": "code",
   "execution_count": 1,
   "metadata": {},
   "outputs": [],
   "source": [
    "# Import NumPy as np\n",
    "import numpy as np\n",
    "# Import the random module from NumPy\n",
    "from numpy import random"
   ]
  },
  {
   "cell_type": "markdown",
   "metadata": {},
   "source": [
    "## Exercise 2: Make a Random Number Generator"
   ]
  },
  {
   "cell_type": "markdown",
   "metadata": {},
   "source": [
    "Create a random number generator with seed 101 and call this <b>rng</b>."
   ]
  },
  {
   "cell_type": "code",
   "execution_count": 2,
   "metadata": {},
   "outputs": [],
   "source": [
    "# Create a random number generator\n",
    "rng = random.default_rng(101)"
   ]
  },
  {
   "cell_type": "markdown",
   "metadata": {},
   "source": [
    "## Exercise 3: Create Random Input Numbers"
   ]
  },
  {
   "cell_type": "markdown",
   "metadata": {},
   "source": [
    "We will now create the $x$-values for training the linear regression. Make a NumPy array $x$ that contains 100 random integers between 0 and 10 (inclusive)."
   ]
  },
  {
   "cell_type": "code",
   "execution_count": 5,
   "metadata": {},
   "outputs": [],
   "source": [
    "# Create random input numbers\n",
    "x = rng.integers(0, 11, size=100)"
   ]
  },
  {
   "cell_type": "markdown",
   "metadata": {},
   "source": [
    "## Exercise 4: Create Random Output Numbers"
   ]
  },
  {
   "cell_type": "markdown",
   "metadata": {},
   "source": [
    "We will now create the corresponding $y$-values. Make a NumPy array $y$ that contains 100 uniform random floats between 0 and 1."
   ]
  },
  {
   "cell_type": "code",
   "execution_count": 7,
   "metadata": {},
   "outputs": [
    {
     "data": {
      "text/plain": [
       "array([0.9245319 , 0.10822934, 0.07975233, 0.1792798 , 0.6692801 ,\n",
       "       0.38631755, 0.57692146, 0.49967998, 0.7793126 , 0.05358243,\n",
       "       0.8848803 , 0.40570027, 0.721472  , 0.5369944 , 0.9703263 ,\n",
       "       0.27892536, 0.79744804, 0.406093  , 0.96245235, 0.7795275 ,\n",
       "       0.5494905 , 0.19047332, 0.14404064, 0.30900282, 0.9199768 ,\n",
       "       0.2760914 , 0.97087485, 0.24893653, 0.13106889, 0.03727221,\n",
       "       0.35613245, 0.9567434 , 0.6873681 , 0.5086107 , 0.10954565,\n",
       "       0.32699382, 0.09510767, 0.8804788 , 0.23495513, 0.02193183,\n",
       "       0.3287381 , 0.10598779, 0.7927272 , 0.01877868, 0.72554404,\n",
       "       0.0305894 , 0.92111707, 0.00264198, 0.7404637 , 0.60854965,\n",
       "       0.2077077 , 0.71756405, 0.28240478, 0.35410768, 0.37213814,\n",
       "       0.9280014 , 0.9643086 , 0.7556578 , 0.08138335, 0.9879278 ,\n",
       "       0.31695694, 0.76828784, 0.8705422 , 0.52244246, 0.87541217,\n",
       "       0.05609071, 0.39383644, 0.11973524, 0.6760733 , 0.3267944 ,\n",
       "       0.7982213 , 0.13596898, 0.5457023 , 0.6374474 , 0.8123978 ,\n",
       "       0.06950241, 0.15867203, 0.5424425 , 0.03664476, 0.36324573,\n",
       "       0.00526285, 0.38389432, 0.75661695, 0.07903886, 0.29448926,\n",
       "       0.7190117 , 0.67085737, 0.7640212 , 0.9432065 , 0.3190505 ,\n",
       "       0.1732918 , 0.37636513, 0.8842188 , 0.69241005, 0.01339823,\n",
       "       0.13190639, 0.30344033, 0.61456925, 0.3491432 , 0.3421036 ],\n",
       "      dtype=float32)"
      ]
     },
     "execution_count": 7,
     "metadata": {},
     "output_type": "execute_result"
    }
   ],
   "source": [
    "# Create random output numbers\n",
    "y = rng.random(100, dtype=np.float32)\n",
    "y"
   ]
  },
  {
   "cell_type": "markdown",
   "metadata": {},
   "source": [
    "## Exercise 5: Means and Standard Deviations"
   ]
  },
  {
   "cell_type": "markdown",
   "metadata": {},
   "source": [
    "Let us inspect the means and standard deviations of the NumPy arrays $x$ and $y$."
   ]
  },
  {
   "cell_type": "code",
   "execution_count": 8,
   "metadata": {},
   "outputs": [
    {
     "name": "stdout",
     "output_type": "stream",
     "text": [
      "4.77 3.2306500893782975\n",
      "0.46724856 0.3100097\n"
     ]
    }
   ],
   "source": [
    "# Print the mean and standard deviation of X and y\n",
    "print(np.mean(x), np.std(x))\n",
    "print(np.mean(y), np.std(y))"
   ]
  },
  {
   "cell_type": "markdown",
   "metadata": {},
   "source": [
    "Since $x$ consists of random integers between 0 and 10, it should come as no surprise that the mean of $x$ is close to 5. Similarly, the mean of $y$ should be close to 0.5."
   ]
  },
  {
   "cell_type": "markdown",
   "metadata": {},
   "source": [
    "## Exercise 6: Plotting and Creating the Line"
   ]
  },
  {
   "cell_type": "markdown",
   "metadata": {},
   "source": [
    "Before we move on, use <b>matplotlib</b> to plot the $x$-values and $y$-values."
   ]
  },
  {
   "cell_type": "code",
   "execution_count": 11,
   "metadata": {},
   "outputs": [
    {
     "data": {
      "text/plain": [
       "<matplotlib.collections.PathCollection at 0x7f5535cd4640>"
      ]
     },
     "execution_count": 11,
     "metadata": {},
     "output_type": "execute_result"
    },
    {
     "data": {
      "image/png": "[encoded data removed]",
      "text/plain": [
       "<Figure size 640x480 with 1 Axes>"
      ]
     },
     "metadata": {},
     "output_type": "display_data"
    }
   ],
   "source": [
    "# Import matplotlib.pyplot with the alias plt\n",
    "import matplotlib.pyplot as plt\n",
    "# Plot the generated points with the plt.scatter command\n",
    "plt.scatter(x, y)"
   ]
  },
  {
   "cell_type": "markdown",
   "metadata": {},
   "source": [
    "The idea is the we now have 100 pairs $(x_{0}, y_{0}), \\dots, (x_{99}, y_{99})$. We see from the plot above that there is no line that goes through all of the points. However, there is a line that best approximates the points. In the next exercise, we will construct that line. "
   ]
  },
  {
   "cell_type": "markdown",
   "metadata": {},
   "source": [
    "### Constructing the Line"
   ]
  },
  {
   "cell_type": "markdown",
   "metadata": {},
   "source": [
    "We are looking for a line $L$ that best fits the points we have created. A line $L$ has the form \n",
    "$$L = ax + b.$$\n",
    "Hence we need to find the coefficients $a$ and $b$ to determine the line. The coefficients $a$ and $b$ for the line that best fits the points are given explicitly by the expression in the next cell."
   ]
  },
  {
   "cell_type": "code",
   "execution_count": 16,
   "metadata": {},
   "outputs": [
    {
     "name": "stdout",
     "output_type": "stream",
     "text": [
      "The coefficient a:  -0.01277144513454244\n",
      "The coefficient b:  0.5281683665949901\n"
     ]
    }
   ],
   "source": [
    "# Run this cell to create the coefficients a and b\n",
    "a = (100*np.sum(x * y) - np.sum(x)*np.sum(y))/(100*np.sum(x * x) - np.sum(x)**2)\n",
    "b = (np.sum(y)*np.sum(x ** 2) - np.sum(x)*np.sum(x * y))/(100*np.sum(x * x) - np.sum(x)**2)\n",
    "\n",
    "print('The coefficient a: ', a)\n",
    "print('The coefficient b: ', b)"
   ]
  },
  {
   "cell_type": "markdown",
   "metadata": {},
   "source": [
    "You don't need the understand the expression for $a$ and $b$; this is something one learns about in a statistics class. However, notice that to create $a$ and $b$ we only use the method <b>np.sum()</b> and exponentiations.\n",
    "\n",
    "The value $a$ represent the slope of the line $L$, while $b$ represents the $y$-axis intercept. Since the data is randomly generated in the way we have done, the $y$-intercept $b$ will be roughly $0.5$ and the slope $a$ will be close to zero. This corresponds to a horizontal line with height $0.5$."
   ]
  },
  {
   "cell_type": "markdown",
   "metadata": {},
   "source": [
    "## Exercise 7: Predict a Value at a New Point"
   ]
  },
  {
   "cell_type": "markdown",
   "metadata": {},
   "source": [
    "Now that we have the line $L$, we can predict the value of a new point. First create a new value $x_{new}$. Then use for formula $L = ax + b$ to find the predicted $y$-value."
   ]
  },
  {
   "cell_type": "code",
   "execution_count": 21,
   "metadata": {},
   "outputs": [
    {
     "data": {
      "text/plain": [
       "0.438768250653193"
      ]
     },
     "execution_count": 21,
     "metadata": {},
     "output_type": "execute_result"
    }
   ],
   "source": [
    "# Create a new variable called x_new between 0 and 10 (you can choose the value)\n",
    "x_new = 7\n",
    "# Predict the corresponding y_new value\n",
    "a * x_new + b"
   ]
  },
  {
   "cell_type": "markdown",
   "metadata": {},
   "source": [
    "Whatever value you choose for $x_{new}$, the corresponding predicted value in our example should be close to $0.5$. This feature happens because our data is randomly generated."
   ]
  },
  {
   "cell_type": "markdown",
   "metadata": {},
   "source": [
    "## Moral of the Story"
   ]
  },
  {
   "cell_type": "markdown",
   "metadata": {},
   "source": [
    "As you might have suspected by now, linear regression behaves a bit boringly when using random data. We essentially predict roughly a value of $0.5$ independently of what the input $x_{new}$ is. This is because our data are uniformly distributed, so each point is equally likely to be chosen. For real data, this is almost never the case.\n",
    "\n",
    "Even though we learned about linear regression for random data, the exact same procedure work for real data as well. Sometimes random data is used as a \"reality check\" to see if our linear model makes sense and that we have not written something wrong."
   ]
  }
 ],
 "metadata": {
  "kernelspec": {
   "display_name": "Python 3",
   "language": "python",
   "name": "python3"
  },
  "language_info": {
   "codemirror_mode": {
    "name": "ipython",
    "version": 3
   },
   "file_extension": ".py",
   "mimetype": "text/x-python",
   "name": "python",
   "nbconvert_exporter": "python",
   "pygments_lexer": "ipython3",
   "version": "3.8.5"
  }
 },
 "nbformat": 4,
 "nbformat_minor": 4
}
